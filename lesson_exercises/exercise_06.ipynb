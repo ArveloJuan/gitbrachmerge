{
  "cells": [
    {
      "cell_type": "markdown",
      "metadata": {
        "id": "view-in-github",
        "colab_type": "text"
      },
      "source": [
        "<a href=\"https://colab.research.google.com/github/ArveloJuan/gitbrachmerge/blob/main/lesson_exercises/exercise_06.ipynb\" target=\"_parent\"><img src=\"https://colab.research.google.com/assets/colab-badge.svg\" alt=\"Open In Colab\"/></a>"
      ]
    },
    {
      "cell_type": "markdown",
      "metadata": {
        "id": "pPKgOY6FgATi"
      },
      "source": [
        "# E6. To be completed after lesson 19\n",
        "\n",
        "<hr />"
      ]
    },
    {
      "cell_type": "markdown",
      "metadata": {
        "id": "qJO3i-05gATz"
      },
      "source": [
        "## Exercise 6.1\n",
        "\n",
        "Why is the likelihood function not a probability?\n",
        "\n",
        "**The likelihood function is not a probability because instead of being a PDF and a function of the data it is a function of the parameters. This is why it is not a probability.**\n",
        "<br />"
      ]
    },
    {
      "cell_type": "markdown",
      "metadata": {
        "id": "ejCn-Fg-gAT2"
      },
      "source": [
        "## Exercise 6.2\n",
        "\n",
        "When is maximum likelihood estimation a *constrained* optimization problem? How can you handle constraints when using BFGS? How about when using Powell's method?\n",
        "**A maximum likelihood estimation is a constrained optimization problem if we have explicit consideration of the constraints on our equation in the problem often shown with s.t. for such. It is important to include which variables the s.t. is for in the expression. For handling constraints when using BFGS, one should go and take the log of the likelihood of the function to try and get rid of parameter restrictions present. In Powell's method, the way to deal with the constraints is setting all disallowed parameters to negative ∞. Doing this should give a proper numerical MLE estimate in this method.**\n",
        "<br />"
      ]
    },
    {
      "cell_type": "markdown",
      "metadata": {
        "id": "1N0lrbuugAT6"
      },
      "source": [
        "## Exercise 6.3\n",
        "\n",
        "Write down any questions or points of confusion that you have.\n",
        "\n",
        "**I'm confused about what exactly the likelihood function is given it is not a probability. I was also confused in how taking the log in BFGS helps handle the constraints.**"
      ]
    }
  ],
  "metadata": {
    "kernelspec": {
      "display_name": "Python 3 (ipykernel)",
      "language": "python",
      "name": "python3"
    },
    "language_info": {
      "codemirror_mode": {
        "name": "ipython",
        "version": 3
      },
      "file_extension": ".py",
      "mimetype": "text/x-python",
      "name": "python",
      "nbconvert_exporter": "python",
      "pygments_lexer": "ipython3",
      "version": "3.9.13"
    },
    "colab": {
      "provenance": [],
      "include_colab_link": true
    }
  },
  "nbformat": 4,
  "nbformat_minor": 0
}